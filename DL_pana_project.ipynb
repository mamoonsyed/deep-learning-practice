{
 "cells": [
  {
   "cell_type": "markdown",
   "metadata": {},
   "source": [
    "# Deep Learning Project Using Keras , TensorFlow and Sci-kit Learn:"
   ]
  },
  {
   "cell_type": "markdown",
   "metadata": {},
   "source": [
    "Importing wine quality data from UCI archives:"
   ]
  },
  {
   "cell_type": "code",
   "execution_count": 4,
   "metadata": {
    "collapsed": true
   },
   "outputs": [],
   "source": [
    "# Import pandas \n",
    "import pandas as pd\n",
    "\n",
    "# Read in white wine data \n",
    "white = pd.read_csv(\"http://archive.ics.uci.edu/ml/machine-learning-databases/wine-quality/winequality-white.csv\", sep=';')\n",
    "\n",
    "# Read in red wine data \n",
    "red = pd.read_csv(\"http://archive.ics.uci.edu/ml/machine-learning-databases/wine-quality/winequality-red.csv\", sep=';')"
   ]
  },
  {
   "cell_type": "code",
   "execution_count": 5,
   "metadata": {},
   "outputs": [
    {
     "name": "stdout",
     "output_type": "stream",
     "text": [
      "<class 'pandas.core.frame.DataFrame'>\n",
      "RangeIndex: 4898 entries, 0 to 4897\n",
      "Data columns (total 12 columns):\n",
      "fixed acidity           4898 non-null float64\n",
      "volatile acidity        4898 non-null float64\n",
      "citric acid             4898 non-null float64\n",
      "residual sugar          4898 non-null float64\n",
      "chlorides               4898 non-null float64\n",
      "free sulfur dioxide     4898 non-null float64\n",
      "total sulfur dioxide    4898 non-null float64\n",
      "density                 4898 non-null float64\n",
      "pH                      4898 non-null float64\n",
      "sulphates               4898 non-null float64\n",
      "alcohol                 4898 non-null float64\n",
      "quality                 4898 non-null int64\n",
      "dtypes: float64(11), int64(1)\n",
      "memory usage: 459.3 KB\n",
      "None\n",
      "<class 'pandas.core.frame.DataFrame'>\n",
      "RangeIndex: 1599 entries, 0 to 1598\n",
      "Data columns (total 12 columns):\n",
      "fixed acidity           1599 non-null float64\n",
      "volatile acidity        1599 non-null float64\n",
      "citric acid             1599 non-null float64\n",
      "residual sugar          1599 non-null float64\n",
      "chlorides               1599 non-null float64\n",
      "free sulfur dioxide     1599 non-null float64\n",
      "total sulfur dioxide    1599 non-null float64\n",
      "density                 1599 non-null float64\n",
      "pH                      1599 non-null float64\n",
      "sulphates               1599 non-null float64\n",
      "alcohol                 1599 non-null float64\n",
      "quality                 1599 non-null int64\n",
      "dtypes: float64(11), int64(1)\n",
      "memory usage: 150.0 KB\n",
      "None\n"
     ]
    }
   ],
   "source": [
    "# Print info on white wine\n",
    "print(white.info())\n",
    "\n",
    "# Print info on red wine\n",
    "print(red.info())"
   ]
  },
  {
   "cell_type": "code",
   "execution_count": 6,
   "metadata": {},
   "outputs": [
    {
     "data": {
      "text/html": [
       "<div>\n",
       "<style>\n",
       "    .dataframe thead tr:only-child th {\n",
       "        text-align: right;\n",
       "    }\n",
       "\n",
       "    .dataframe thead th {\n",
       "        text-align: left;\n",
       "    }\n",
       "\n",
       "    .dataframe tbody tr th {\n",
       "        vertical-align: top;\n",
       "    }\n",
       "</style>\n",
       "<table border=\"1\" class=\"dataframe\">\n",
       "  <thead>\n",
       "    <tr style=\"text-align: right;\">\n",
       "      <th></th>\n",
       "      <th>fixed acidity</th>\n",
       "      <th>volatile acidity</th>\n",
       "      <th>citric acid</th>\n",
       "      <th>residual sugar</th>\n",
       "      <th>chlorides</th>\n",
       "      <th>free sulfur dioxide</th>\n",
       "      <th>total sulfur dioxide</th>\n",
       "      <th>density</th>\n",
       "      <th>pH</th>\n",
       "      <th>sulphates</th>\n",
       "      <th>alcohol</th>\n",
       "      <th>quality</th>\n",
       "    </tr>\n",
       "  </thead>\n",
       "  <tbody>\n",
       "    <tr>\n",
       "      <th>count</th>\n",
       "      <td>4898.000000</td>\n",
       "      <td>4898.000000</td>\n",
       "      <td>4898.000000</td>\n",
       "      <td>4898.000000</td>\n",
       "      <td>4898.000000</td>\n",
       "      <td>4898.000000</td>\n",
       "      <td>4898.000000</td>\n",
       "      <td>4898.000000</td>\n",
       "      <td>4898.000000</td>\n",
       "      <td>4898.000000</td>\n",
       "      <td>4898.000000</td>\n",
       "      <td>4898.000000</td>\n",
       "    </tr>\n",
       "    <tr>\n",
       "      <th>mean</th>\n",
       "      <td>6.854788</td>\n",
       "      <td>0.278241</td>\n",
       "      <td>0.334192</td>\n",
       "      <td>6.391415</td>\n",
       "      <td>0.045772</td>\n",
       "      <td>35.308085</td>\n",
       "      <td>138.360657</td>\n",
       "      <td>0.994027</td>\n",
       "      <td>3.188267</td>\n",
       "      <td>0.489847</td>\n",
       "      <td>10.514267</td>\n",
       "      <td>5.877909</td>\n",
       "    </tr>\n",
       "    <tr>\n",
       "      <th>std</th>\n",
       "      <td>0.843868</td>\n",
       "      <td>0.100795</td>\n",
       "      <td>0.121020</td>\n",
       "      <td>5.072058</td>\n",
       "      <td>0.021848</td>\n",
       "      <td>17.007137</td>\n",
       "      <td>42.498065</td>\n",
       "      <td>0.002991</td>\n",
       "      <td>0.151001</td>\n",
       "      <td>0.114126</td>\n",
       "      <td>1.230621</td>\n",
       "      <td>0.885639</td>\n",
       "    </tr>\n",
       "    <tr>\n",
       "      <th>min</th>\n",
       "      <td>3.800000</td>\n",
       "      <td>0.080000</td>\n",
       "      <td>0.000000</td>\n",
       "      <td>0.600000</td>\n",
       "      <td>0.009000</td>\n",
       "      <td>2.000000</td>\n",
       "      <td>9.000000</td>\n",
       "      <td>0.987110</td>\n",
       "      <td>2.720000</td>\n",
       "      <td>0.220000</td>\n",
       "      <td>8.000000</td>\n",
       "      <td>3.000000</td>\n",
       "    </tr>\n",
       "    <tr>\n",
       "      <th>25%</th>\n",
       "      <td>6.300000</td>\n",
       "      <td>0.210000</td>\n",
       "      <td>0.270000</td>\n",
       "      <td>1.700000</td>\n",
       "      <td>0.036000</td>\n",
       "      <td>23.000000</td>\n",
       "      <td>108.000000</td>\n",
       "      <td>0.991723</td>\n",
       "      <td>3.090000</td>\n",
       "      <td>0.410000</td>\n",
       "      <td>9.500000</td>\n",
       "      <td>5.000000</td>\n",
       "    </tr>\n",
       "    <tr>\n",
       "      <th>50%</th>\n",
       "      <td>6.800000</td>\n",
       "      <td>0.260000</td>\n",
       "      <td>0.320000</td>\n",
       "      <td>5.200000</td>\n",
       "      <td>0.043000</td>\n",
       "      <td>34.000000</td>\n",
       "      <td>134.000000</td>\n",
       "      <td>0.993740</td>\n",
       "      <td>3.180000</td>\n",
       "      <td>0.470000</td>\n",
       "      <td>10.400000</td>\n",
       "      <td>6.000000</td>\n",
       "    </tr>\n",
       "    <tr>\n",
       "      <th>75%</th>\n",
       "      <td>7.300000</td>\n",
       "      <td>0.320000</td>\n",
       "      <td>0.390000</td>\n",
       "      <td>9.900000</td>\n",
       "      <td>0.050000</td>\n",
       "      <td>46.000000</td>\n",
       "      <td>167.000000</td>\n",
       "      <td>0.996100</td>\n",
       "      <td>3.280000</td>\n",
       "      <td>0.550000</td>\n",
       "      <td>11.400000</td>\n",
       "      <td>6.000000</td>\n",
       "    </tr>\n",
       "    <tr>\n",
       "      <th>max</th>\n",
       "      <td>14.200000</td>\n",
       "      <td>1.100000</td>\n",
       "      <td>1.660000</td>\n",
       "      <td>65.800000</td>\n",
       "      <td>0.346000</td>\n",
       "      <td>289.000000</td>\n",
       "      <td>440.000000</td>\n",
       "      <td>1.038980</td>\n",
       "      <td>3.820000</td>\n",
       "      <td>1.080000</td>\n",
       "      <td>14.200000</td>\n",
       "      <td>9.000000</td>\n",
       "    </tr>\n",
       "  </tbody>\n",
       "</table>\n",
       "</div>"
      ],
      "text/plain": [
       "       fixed acidity  volatile acidity  citric acid  residual sugar  \\\n",
       "count    4898.000000       4898.000000  4898.000000     4898.000000   \n",
       "mean        6.854788          0.278241     0.334192        6.391415   \n",
       "std         0.843868          0.100795     0.121020        5.072058   \n",
       "min         3.800000          0.080000     0.000000        0.600000   \n",
       "25%         6.300000          0.210000     0.270000        1.700000   \n",
       "50%         6.800000          0.260000     0.320000        5.200000   \n",
       "75%         7.300000          0.320000     0.390000        9.900000   \n",
       "max        14.200000          1.100000     1.660000       65.800000   \n",
       "\n",
       "         chlorides  free sulfur dioxide  total sulfur dioxide      density  \\\n",
       "count  4898.000000          4898.000000           4898.000000  4898.000000   \n",
       "mean      0.045772            35.308085            138.360657     0.994027   \n",
       "std       0.021848            17.007137             42.498065     0.002991   \n",
       "min       0.009000             2.000000              9.000000     0.987110   \n",
       "25%       0.036000            23.000000            108.000000     0.991723   \n",
       "50%       0.043000            34.000000            134.000000     0.993740   \n",
       "75%       0.050000            46.000000            167.000000     0.996100   \n",
       "max       0.346000           289.000000            440.000000     1.038980   \n",
       "\n",
       "                pH    sulphates      alcohol      quality  \n",
       "count  4898.000000  4898.000000  4898.000000  4898.000000  \n",
       "mean      3.188267     0.489847    10.514267     5.877909  \n",
       "std       0.151001     0.114126     1.230621     0.885639  \n",
       "min       2.720000     0.220000     8.000000     3.000000  \n",
       "25%       3.090000     0.410000     9.500000     5.000000  \n",
       "50%       3.180000     0.470000    10.400000     6.000000  \n",
       "75%       3.280000     0.550000    11.400000     6.000000  \n",
       "max       3.820000     1.080000    14.200000     9.000000  "
      ]
     },
     "execution_count": 6,
     "metadata": {},
     "output_type": "execute_result"
    }
   ],
   "source": [
    "# Describe `white`\n",
    "white.describe()"
   ]
  },
  {
   "cell_type": "markdown",
   "metadata": {},
   "source": [
    "### Exploring Data to see patterns:"
   ]
  },
  {
   "cell_type": "code",
   "execution_count": 7,
   "metadata": {},
   "outputs": [
    {
     "data": {
      "image/png": "[encoded data removed]",
      "text/plain": [
       "<matplotlib.figure.Figure at 0x1abf5360c50>"
      ]
     },
     "metadata": {},
     "output_type": "display_data"
    }
   ],
   "source": [
    "import matplotlib.pyplot as plt\n",
    "\n",
    "fig, ax = plt.subplots(1, 2)\n",
    "\n",
    "ax[0].hist(red.alcohol, 10, facecolor='red', alpha=0.5, label=\"Red wine\")\n",
    "ax[1].hist(white.alcohol, 10, facecolor='white', ec=\"black\", lw=0.5, alpha=0.5, label=\"White wine\")\n",
    "\n",
    "fig.subplots_adjust(left=0, right=1, bottom=0, top=0.5, hspace=0.05, wspace=1)\n",
    "ax[0].set_ylim([0, 1000])\n",
    "ax[0].set_xlabel(\"Alcohol in % Vol\")\n",
    "ax[0].set_ylabel(\"Frequency\")\n",
    "ax[1].set_xlabel(\"Alcohol in % Vol\")\n",
    "ax[1].set_ylabel(\"Frequency\")\n",
    "#ax[0].legend(loc='best')\n",
    "#ax[1].legend(loc='best')\n",
    "fig.suptitle(\"Distribution of Alcohol in % Vol\")\n",
    "\n",
    "plt.show()"
   ]
  },
  {
   "cell_type": "code",
   "execution_count": 8,
   "metadata": {},
   "outputs": [
    {
     "name": "stdout",
     "output_type": "stream",
     "text": [
      "(array([  0,   7, 673, 452, 305, 133,  21,   8], dtype=int64), array([ 7,  8,  9, 10, 11, 12, 13, 14, 15]))\n",
      "(array([   0,  317, 1606, 1256,  906,  675,  131,    7], dtype=int64), array([ 7,  8,  9, 10, 11, 12, 13, 14, 15]))\n"
     ]
    }
   ],
   "source": [
    "import numpy as np\n",
    "print(np.histogram(red.alcohol, bins=[7,8,9,10,11,12,13,14,15]))\n",
    "print(np.histogram(white.alcohol, bins=[7,8,9,10,11,12,13,14,15]))"
   ]
  },
  {
   "cell_type": "code",
   "execution_count": 9,
   "metadata": {},
   "outputs": [
    {
     "data": {
      "image/png": "[encoded data removed]",
      "text/plain": [
       "<matplotlib.figure.Figure at 0x1abf6c8e860>"
      ]
     },
     "metadata": {},
     "output_type": "display_data"
    }
   ],
   "source": [
    "import matplotlib.pyplot as plt\n",
    "\n",
    "fig, ax = plt.subplots(1, 2, figsize=(8, 4))\n",
    "\n",
    "ax[0].scatter(red['quality'], red[\"sulphates\"], color=\"red\")\n",
    "ax[1].scatter(white['quality'], white['sulphates'], color=\"white\", edgecolors=\"black\", lw=0.5)\n",
    "\n",
    "ax[0].set_title(\"Red Wine\")\n",
    "ax[1].set_title(\"White Wine\")\n",
    "ax[0].set_xlabel(\"Quality\")\n",
    "ax[1].set_xlabel(\"Quality\")\n",
    "ax[0].set_ylabel(\"Sulphates\")\n",
    "ax[1].set_ylabel(\"Sulphates\")\n",
    "ax[0].set_xlim([0,10])\n",
    "ax[1].set_xlim([0,10])\n",
    "ax[0].set_ylim([0,2.5])\n",
    "ax[1].set_ylim([0,2.5])\n",
    "fig.subplots_adjust(wspace=0.5)\n",
    "fig.suptitle(\"Wine Quality by Amount of Sulphates\")\n",
    "\n",
    "plt.show()"
   ]
  },
  {
   "cell_type": "code",
   "execution_count": 10,
   "metadata": {},
   "outputs": [
    {
     "data": {
      "image/png": "[encoded data removed]",
      "text/plain": [
       "<matplotlib.figure.Figure at 0x1abf6d4ed30>"
      ]
     },
     "metadata": {},
     "output_type": "display_data"
    }
   ],
   "source": [
    "import matplotlib.pyplot as plt\n",
    "import numpy as np\n",
    "\n",
    "np.random.seed(570)\n",
    "\n",
    "redlabels = np.unique(red['quality'])\n",
    "whitelabels = np.unique(white['quality'])\n",
    "\n",
    "import matplotlib.pyplot as plt\n",
    "fig, ax = plt.subplots(1, 2, figsize=(8, 4))\n",
    "redcolors = np.random.rand(6,4)\n",
    "whitecolors = np.append(redcolors, np.random.rand(1,4), axis=0)\n",
    "\n",
    "for i in range(len(redcolors)):\n",
    "    redy = red['alcohol'][red.quality == redlabels[i]]\n",
    "    redx = red['volatile acidity'][red.quality == redlabels[i]]\n",
    "    ax[0].scatter(redx, redy, c=redcolors[i])\n",
    "for i in range(len(whitecolors)):\n",
    "    whitey = white['alcohol'][white.quality == whitelabels[i]]\n",
    "    whitex = white['volatile acidity'][white.quality == whitelabels[i]]\n",
    "    ax[1].scatter(whitex, whitey, c=whitecolors[i])\n",
    "    \n",
    "ax[0].set_title(\"Red Wine\")\n",
    "ax[1].set_title(\"White Wine\")\n",
    "ax[0].set_xlim([0,1.7])\n",
    "ax[1].set_xlim([0,1.7])\n",
    "ax[0].set_ylim([5,15.5])\n",
    "ax[1].set_ylim([5,15.5])\n",
    "ax[0].set_xlabel(\"Volatile Acidity\")\n",
    "ax[0].set_ylabel(\"Alcohol\")\n",
    "ax[1].set_xlabel(\"Volatile Acidity\")\n",
    "ax[1].set_ylabel(\"Alcohol\") \n",
    "#ax[0].legend(redlabels, loc='best', bbox_to_anchor=(1.3, 1))\n",
    "ax[1].legend(whitelabels, loc='best', bbox_to_anchor=(1.3, 1))\n",
    "#fig.suptitle(\"Alcohol - Volatile Acidity\")\n",
    "fig.subplots_adjust(top=0.85, wspace=0.7)\n",
    "\n",
    "plt.show()"
   ]
  },
  {
   "cell_type": "code",
   "execution_count": 6,
   "metadata": {
    "collapsed": true
   },
   "outputs": [],
   "source": [
    "# Add `type` column to `red` with value 1\n",
    "red['type'] = 1\n",
    "\n",
    "# Add `type` column to `white` with value 0\n",
    "white['type'] = 0\n",
    "\n",
    "# Append `white` to `red`\n",
    "wines = red.append(white, ignore_index=True)"
   ]
  },
  {
   "cell_type": "code",
   "execution_count": 7,
   "metadata": {},
   "outputs": [
    {
     "data": {
      "image/png": "[encoded data removed]",
      "text/plain": [
       "<matplotlib.figure.Figure at 0x2700b018320>"
      ]
     },
     "metadata": {},
     "output_type": "display_data"
    }
   ],
   "source": [
    "import seaborn as sns\n",
    "corr = wines.corr()\n",
    "sns.heatmap(corr, \n",
    "            xticklabels=corr.columns.values,\n",
    "            yticklabels=corr.columns.values)\n",
    "sns.plt.show()"
   ]
  },
  {
   "cell_type": "markdown",
   "metadata": {},
   "source": [
    "### Separating Training and testing data:"
   ]
  },
  {
   "cell_type": "code",
   "execution_count": 11,
   "metadata": {},
   "outputs": [
    {
     "name": "stdout",
     "output_type": "stream",
     "text": [
      "      fixed acidity  volatile acidity  citric acid  residual sugar  chlorides  \\\n",
      "0               7.4             0.700         0.00            1.90      0.076   \n",
      "1               7.8             0.880         0.00            2.60      0.098   \n",
      "2               7.8             0.760         0.04            2.30      0.092   \n",
      "3              11.2             0.280         0.56            1.90      0.075   \n",
      "4               7.4             0.700         0.00            1.90      0.076   \n",
      "5               7.4             0.660         0.00            1.80      0.075   \n",
      "6               7.9             0.600         0.06            1.60      0.069   \n",
      "7               7.3             0.650         0.00            1.20      0.065   \n",
      "8               7.8             0.580         0.02            2.00      0.073   \n",
      "9               7.5             0.500         0.36            6.10      0.071   \n",
      "10              6.7             0.580         0.08            1.80      0.097   \n",
      "11              7.5             0.500         0.36            6.10      0.071   \n",
      "12              5.6             0.615         0.00            1.60      0.089   \n",
      "13              7.8             0.610         0.29            1.60      0.114   \n",
      "14              8.9             0.620         0.18            3.80      0.176   \n",
      "15              8.9             0.620         0.19            3.90      0.170   \n",
      "16              8.5             0.280         0.56            1.80      0.092   \n",
      "17              8.1             0.560         0.28            1.70      0.368   \n",
      "18              7.4             0.590         0.08            4.40      0.086   \n",
      "19              7.9             0.320         0.51            1.80      0.341   \n",
      "20              8.9             0.220         0.48            1.80      0.077   \n",
      "21              7.6             0.390         0.31            2.30      0.082   \n",
      "22              7.9             0.430         0.21            1.60      0.106   \n",
      "23              8.5             0.490         0.11            2.30      0.084   \n",
      "24              6.9             0.400         0.14            2.40      0.085   \n",
      "25              6.3             0.390         0.16            1.40      0.080   \n",
      "26              7.6             0.410         0.24            1.80      0.080   \n",
      "27              7.9             0.430         0.21            1.60      0.106   \n",
      "28              7.1             0.710         0.00            1.90      0.080   \n",
      "29              7.8             0.645         0.00            2.00      0.082   \n",
      "...             ...               ...          ...             ...        ...   \n",
      "6467            5.8             0.230         0.31            4.50      0.046   \n",
      "6468            6.6             0.240         0.33           10.10      0.032   \n",
      "6469            6.1             0.320         0.28            6.60      0.021   \n",
      "6470            5.0             0.200         0.40            1.90      0.015   \n",
      "6471            6.0             0.420         0.41           12.40      0.032   \n",
      "6472            5.7             0.210         0.32            1.60      0.030   \n",
      "6473            5.6             0.200         0.36            2.50      0.048   \n",
      "6474            7.4             0.220         0.26            1.20      0.035   \n",
      "6475            6.2             0.380         0.42            2.50      0.038   \n",
      "6476            5.9             0.540         0.00            0.80      0.032   \n",
      "6477            6.2             0.530         0.02            0.90      0.035   \n",
      "6478            6.6             0.340         0.40            8.10      0.046   \n",
      "6479            6.6             0.340         0.40            8.10      0.046   \n",
      "6480            5.0             0.235         0.27           11.75      0.030   \n",
      "6481            5.5             0.320         0.13            1.30      0.037   \n",
      "6482            4.9             0.470         0.17            1.90      0.035   \n",
      "6483            6.5             0.330         0.38            8.30      0.048   \n",
      "6484            6.6             0.340         0.40            8.10      0.046   \n",
      "6485            6.2             0.210         0.28            5.70      0.028   \n",
      "6486            6.2             0.410         0.22            1.90      0.023   \n",
      "6487            6.8             0.220         0.36            1.20      0.052   \n",
      "6488            4.9             0.235         0.27           11.75      0.030   \n",
      "6489            6.1             0.340         0.29            2.20      0.036   \n",
      "6490            5.7             0.210         0.32            0.90      0.038   \n",
      "6491            6.5             0.230         0.38            1.30      0.032   \n",
      "6492            6.2             0.210         0.29            1.60      0.039   \n",
      "6493            6.6             0.320         0.36            8.00      0.047   \n",
      "6494            6.5             0.240         0.19            1.20      0.041   \n",
      "6495            5.5             0.290         0.30            1.10      0.022   \n",
      "6496            6.0             0.210         0.38            0.80      0.020   \n",
      "\n",
      "      free sulfur dioxide  total sulfur dioxide  density    pH  sulphates  \\\n",
      "0                    11.0                  34.0  0.99780  3.51       0.56   \n",
      "1                    25.0                  67.0  0.99680  3.20       0.68   \n",
      "2                    15.0                  54.0  0.99700  3.26       0.65   \n",
      "3                    17.0                  60.0  0.99800  3.16       0.58   \n",
      "4                    11.0                  34.0  0.99780  3.51       0.56   \n",
      "5                    13.0                  40.0  0.99780  3.51       0.56   \n",
      "6                    15.0                  59.0  0.99640  3.30       0.46   \n",
      "7                    15.0                  21.0  0.99460  3.39       0.47   \n",
      "8                     9.0                  18.0  0.99680  3.36       0.57   \n",
      "9                    17.0                 102.0  0.99780  3.35       0.80   \n",
      "10                   15.0                  65.0  0.99590  3.28       0.54   \n",
      "11                   17.0                 102.0  0.99780  3.35       0.80   \n",
      "12                   16.0                  59.0  0.99430  3.58       0.52   \n",
      "13                    9.0                  29.0  0.99740  3.26       1.56   \n",
      "14                   52.0                 145.0  0.99860  3.16       0.88   \n",
      "15                   51.0                 148.0  0.99860  3.17       0.93   \n",
      "16                   35.0                 103.0  0.99690  3.30       0.75   \n",
      "17                   16.0                  56.0  0.99680  3.11       1.28   \n",
      "18                    6.0                  29.0  0.99740  3.38       0.50   \n",
      "19                   17.0                  56.0  0.99690  3.04       1.08   \n",
      "20                   29.0                  60.0  0.99680  3.39       0.53   \n",
      "21                   23.0                  71.0  0.99820  3.52       0.65   \n",
      "22                   10.0                  37.0  0.99660  3.17       0.91   \n",
      "23                    9.0                  67.0  0.99680  3.17       0.53   \n",
      "24                   21.0                  40.0  0.99680  3.43       0.63   \n",
      "25                   11.0                  23.0  0.99550  3.34       0.56   \n",
      "26                    4.0                  11.0  0.99620  3.28       0.59   \n",
      "27                   10.0                  37.0  0.99660  3.17       0.91   \n",
      "28                   14.0                  35.0  0.99720  3.47       0.55   \n",
      "29                    8.0                  16.0  0.99640  3.38       0.59   \n",
      "...                   ...                   ...      ...   ...        ...   \n",
      "6467                 42.0                 124.0  0.99324  3.31       0.64   \n",
      "6468                  8.0                  81.0  0.99626  3.19       0.51   \n",
      "6469                 29.0                 132.0  0.99188  3.15       0.36   \n",
      "6470                 20.0                  98.0  0.98970  3.37       0.55   \n",
      "6471                 50.0                 179.0  0.99622  3.14       0.60   \n",
      "6472                 33.0                 122.0  0.99044  3.33       0.52   \n",
      "6473                 16.0                 125.0  0.99282  3.49       0.49   \n",
      "6474                 18.0                  97.0  0.99245  3.12       0.41   \n",
      "6475                 34.0                 117.0  0.99132  3.36       0.59   \n",
      "6476                 12.0                  82.0  0.99286  3.25       0.36   \n",
      "6477                  6.0                  81.0  0.99234  3.24       0.35   \n",
      "6478                 68.0                 170.0  0.99494  3.15       0.50   \n",
      "6479                 68.0                 170.0  0.99494  3.15       0.50   \n",
      "6480                 34.0                 118.0  0.99540  3.07       0.50   \n",
      "6481                 45.0                 156.0  0.99184  3.26       0.38   \n",
      "6482                 60.0                 148.0  0.98964  3.27       0.35   \n",
      "6483                 68.0                 174.0  0.99492  3.14       0.50   \n",
      "6484                 68.0                 170.0  0.99494  3.15       0.50   \n",
      "6485                 45.0                 121.0  0.99168  3.21       1.08   \n",
      "6486                  5.0                  56.0  0.98928  3.04       0.79   \n",
      "6487                 38.0                 127.0  0.99330  3.04       0.54   \n",
      "6488                 34.0                 118.0  0.99540  3.07       0.50   \n",
      "6489                 25.0                 100.0  0.98938  3.06       0.44   \n",
      "6490                 38.0                 121.0  0.99074  3.24       0.46   \n",
      "6491                 29.0                 112.0  0.99298  3.29       0.54   \n",
      "6492                 24.0                  92.0  0.99114  3.27       0.50   \n",
      "6493                 57.0                 168.0  0.99490  3.15       0.46   \n",
      "6494                 30.0                 111.0  0.99254  2.99       0.46   \n",
      "6495                 20.0                 110.0  0.98869  3.34       0.38   \n",
      "6496                 22.0                  98.0  0.98941  3.26       0.32   \n",
      "\n",
      "        alcohol  \n",
      "0      9.400000  \n",
      "1      9.800000  \n",
      "2      9.800000  \n",
      "3      9.800000  \n",
      "4      9.400000  \n",
      "5      9.400000  \n",
      "6      9.400000  \n",
      "7     10.000000  \n",
      "8      9.500000  \n",
      "9     10.500000  \n",
      "10     9.200000  \n",
      "11    10.500000  \n",
      "12     9.900000  \n",
      "13     9.100000  \n",
      "14     9.200000  \n",
      "15     9.200000  \n",
      "16    10.500000  \n",
      "17     9.300000  \n",
      "18     9.000000  \n",
      "19     9.200000  \n",
      "20     9.400000  \n",
      "21     9.700000  \n",
      "22     9.500000  \n",
      "23     9.400000  \n",
      "24     9.700000  \n",
      "25     9.300000  \n",
      "26     9.500000  \n",
      "27     9.500000  \n",
      "28     9.400000  \n",
      "29     9.800000  \n",
      "...         ...  \n",
      "6467  10.800000  \n",
      "6468   9.800000  \n",
      "6469  11.450000  \n",
      "6470  12.050000  \n",
      "6471   9.700000  \n",
      "6472  11.900000  \n",
      "6473  10.000000  \n",
      "6474   9.700000  \n",
      "6475  11.600000  \n",
      "6476   8.800000  \n",
      "6477   9.500000  \n",
      "6478   9.533333  \n",
      "6479   9.533333  \n",
      "6480   9.400000  \n",
      "6481  10.700000  \n",
      "6482  11.500000  \n",
      "6483   9.600000  \n",
      "6484   9.550000  \n",
      "6485  12.150000  \n",
      "6486  13.000000  \n",
      "6487   9.200000  \n",
      "6488   9.400000  \n",
      "6489  11.800000  \n",
      "6490  10.600000  \n",
      "6491   9.700000  \n",
      "6492  11.200000  \n",
      "6493   9.600000  \n",
      "6494   9.400000  \n",
      "6495  12.800000  \n",
      "6496  11.800000  \n",
      "\n",
      "[6497 rows x 11 columns]\n",
      "[1 1 1 ..., 0 0 0]\n"
     ]
    }
   ],
   "source": [
    "# Import `train_test_split` from `sklearn.model_selection`\n",
    "from sklearn.model_selection import train_test_split\n",
    "import numpy as np\n",
    "\n",
    "# Specify the data \n",
    "X=wines.iloc[:,0:11]\n",
    "print (X)\n",
    "\n",
    "# Specify the target labels and flatten the array \n",
    "y=np.ravel(wines.type)\n",
    "print (y)\n",
    "\n",
    "# Split the data up in train and test sets\n",
    "X_train, X_test, y_train, y_test = train_test_split(X, y, test_size=0.33, random_state=42)"
   ]
  },
  {
   "cell_type": "markdown",
   "metadata": {},
   "source": [
    "### Scaling the data:"
   ]
  },
  {
   "cell_type": "code",
   "execution_count": 12,
   "metadata": {
    "collapsed": true
   },
   "outputs": [],
   "source": [
    "# Import `StandardScaler` from `sklearn.preprocessing`\n",
    "from sklearn.preprocessing import StandardScaler\n",
    "\n",
    "# Define the scaler \n",
    "scaler = StandardScaler().fit(X_train)\n",
    "\n",
    "# Scale the train set\n",
    "X_train = scaler.transform(X_train)\n",
    "\n",
    "# Scale the test set\n",
    "X_test = scaler.transform(X_test)"
   ]
  },
  {
   "cell_type": "markdown",
   "metadata": {},
   "source": [
    "### Importing Keras and defining model parameters:"
   ]
  },
  {
   "cell_type": "code",
   "execution_count": 13,
   "metadata": {},
   "outputs": [
    {
     "name": "stderr",
     "output_type": "stream",
     "text": [
      "Using TensorFlow backend.\n"
     ]
    }
   ],
   "source": [
    "# Import `Sequential` from `keras.models`\n",
    "from keras.models import Sequential\n",
    "\n",
    "# Import `Dense` from `keras.layers`\n",
    "from keras.layers import Dense\n",
    "\n",
    "# Initialize the constructor\n",
    "model = Sequential()\n",
    "\n",
    "# Add an input layer \n",
    "model.add(Dense(12, activation='relu', input_shape=(11,)))\n",
    "\n",
    "# Add one hidden layer \n",
    "model.add(Dense(8, activation='relu'))\n",
    "\n",
    "# Add an output layer \n",
    "model.add(Dense(1, activation='sigmoid'))"
   ]
  },
  {
   "cell_type": "code",
   "execution_count": 14,
   "metadata": {},
   "outputs": [
    {
     "data": {
      "text/plain": [
       "(None, 1)"
      ]
     },
     "execution_count": 14,
     "metadata": {},
     "output_type": "execute_result"
    }
   ],
   "source": [
    "# Model output shape\n",
    "model.output_shape"
   ]
  },
  {
   "cell_type": "code",
   "execution_count": 15,
   "metadata": {},
   "outputs": [
    {
     "name": "stdout",
     "output_type": "stream",
     "text": [
      "_________________________________________________________________\n",
      "Layer (type)                 Output Shape              Param #   \n",
      "=================================================================\n",
      "dense_1 (Dense)              (None, 12)                144       \n",
      "_________________________________________________________________\n",
      "dense_2 (Dense)              (None, 8)                 104       \n",
      "_________________________________________________________________\n",
      "dense_3 (Dense)              (None, 1)                 9         \n",
      "=================================================================\n",
      "Total params: 257\n",
      "Trainable params: 257\n",
      "Non-trainable params: 0\n",
      "_________________________________________________________________\n"
     ]
    }
   ],
   "source": [
    "# Model summary\n",
    "model.summary()"
   ]
  },
  {
   "cell_type": "code",
   "execution_count": 16,
   "metadata": {},
   "outputs": [
    {
     "data": {
      "text/plain": [
       "[{'class_name': 'Dense',\n",
       "  'config': {'activation': 'relu',\n",
       "   'activity_regularizer': None,\n",
       "   'batch_input_shape': (None, 11),\n",
       "   'bias_constraint': None,\n",
       "   'bias_initializer': {'class_name': 'Zeros', 'config': {}},\n",
       "   'bias_regularizer': None,\n",
       "   'dtype': 'float32',\n",
       "   'kernel_constraint': None,\n",
       "   'kernel_initializer': {'class_name': 'VarianceScaling',\n",
       "    'config': {'distribution': 'uniform',\n",
       "     'mode': 'fan_avg',\n",
       "     'scale': 1.0,\n",
       "     'seed': None}},\n",
       "   'kernel_regularizer': None,\n",
       "   'name': 'dense_1',\n",
       "   'trainable': True,\n",
       "   'units': 12,\n",
       "   'use_bias': True}},\n",
       " {'class_name': 'Dense',\n",
       "  'config': {'activation': 'relu',\n",
       "   'activity_regularizer': None,\n",
       "   'bias_constraint': None,\n",
       "   'bias_initializer': {'class_name': 'Zeros', 'config': {}},\n",
       "   'bias_regularizer': None,\n",
       "   'kernel_constraint': None,\n",
       "   'kernel_initializer': {'class_name': 'VarianceScaling',\n",
       "    'config': {'distribution': 'uniform',\n",
       "     'mode': 'fan_avg',\n",
       "     'scale': 1.0,\n",
       "     'seed': None}},\n",
       "   'kernel_regularizer': None,\n",
       "   'name': 'dense_2',\n",
       "   'trainable': True,\n",
       "   'units': 8,\n",
       "   'use_bias': True}},\n",
       " {'class_name': 'Dense',\n",
       "  'config': {'activation': 'sigmoid',\n",
       "   'activity_regularizer': None,\n",
       "   'bias_constraint': None,\n",
       "   'bias_initializer': {'class_name': 'Zeros', 'config': {}},\n",
       "   'bias_regularizer': None,\n",
       "   'kernel_constraint': None,\n",
       "   'kernel_initializer': {'class_name': 'VarianceScaling',\n",
       "    'config': {'distribution': 'uniform',\n",
       "     'mode': 'fan_avg',\n",
       "     'scale': 1.0,\n",
       "     'seed': None}},\n",
       "   'kernel_regularizer': None,\n",
       "   'name': 'dense_3',\n",
       "   'trainable': True,\n",
       "   'units': 1,\n",
       "   'use_bias': True}}]"
      ]
     },
     "execution_count": 16,
     "metadata": {},
     "output_type": "execute_result"
    }
   ],
   "source": [
    "# Model config\n",
    "model.get_config()"
   ]
  },
  {
   "cell_type": "markdown",
   "metadata": {},
   "source": [
    "## getting all weights tensors"
   ]
  },
  {
   "cell_type": "code",
   "execution_count": 17,
   "metadata": {},
   "outputs": [
    {
     "data": {
      "text/plain": [
       "[array([[ 0.2129032 , -0.32952249, -0.09389287,  0.4317103 , -0.38420719,\n",
       "          0.47876287, -0.06868958,  0.12355393, -0.34439856,  0.17104208,\n",
       "         -0.02920815, -0.01884684],\n",
       "        [ 0.39585543,  0.2817784 , -0.02299055, -0.36981884, -0.06761009,\n",
       "          0.25749862, -0.13644812, -0.27937847,  0.35344911,  0.11257595,\n",
       "          0.30552548,  0.40886688],\n",
       "        [ 0.18913656, -0.432345  ,  0.08934903, -0.00870812, -0.03533629,\n",
       "          0.24203598, -0.11704537, -0.23397046, -0.41741681,  0.00195241,\n",
       "          0.0550862 , -0.19109362],\n",
       "        [-0.40703177,  0.04769468,  0.04347461, -0.2870146 , -0.34584692,\n",
       "         -0.30257601, -0.47768933, -0.48892146,  0.21782988, -0.02530521,\n",
       "         -0.17371342, -0.4595719 ],\n",
       "        [-0.2395272 , -0.3286618 ,  0.44324702,  0.45650357, -0.35244885,\n",
       "         -0.19318688,  0.1557824 , -0.32127783,  0.42175972, -0.25173095,\n",
       "         -0.2632798 ,  0.35526818],\n",
       "        [-0.00171846, -0.1242893 ,  0.00091672, -0.27849644, -0.03039789,\n",
       "          0.41366947,  0.44077551, -0.03585905,  0.43312299,  0.07831067,\n",
       "         -0.43185085, -0.32104635],\n",
       "        [ 0.22373223,  0.10572678, -0.48370287,  0.12548095,  0.28784645,\n",
       "          0.35304713,  0.01715004, -0.32692748, -0.12813905,  0.13816231,\n",
       "         -0.47053832,  0.42807597],\n",
       "        [ 0.32518274, -0.03506094,  0.38814557,  0.11295176, -0.21056941,\n",
       "         -0.41870043,  0.1429922 , -0.30139044, -0.47877944, -0.3569653 ,\n",
       "          0.01770777,  0.1273123 ],\n",
       "        [ 0.05508316,  0.46878868,  0.41850781,  0.4200207 ,  0.14492989,\n",
       "         -0.37275881,  0.43104506,  0.22264504, -0.14429897,  0.15433162,\n",
       "          0.48213589, -0.11203259],\n",
       "        [-0.46441495,  0.10722524,  0.20920044, -0.44831616,  0.38941252,\n",
       "          0.06835592, -0.37152088,  0.35275328,  0.50609535, -0.34618032,\n",
       "         -0.27557099,  0.08184928],\n",
       "        [ 0.19262201, -0.20441523, -0.48103446,  0.369587  ,  0.16893113,\n",
       "         -0.37087536,  0.07652402,  0.18434089, -0.19340304,  0.10577893,\n",
       "          0.23228377,  0.07190919]], dtype=float32),\n",
       " array([ 0.,  0.,  0.,  0.,  0.,  0.,  0.,  0.,  0.,  0.,  0.,  0.], dtype=float32),\n",
       " array([[-0.31379932, -0.1516563 , -0.01279873,  0.47245836, -0.29739389,\n",
       "         -0.19889599, -0.27813345,  0.33276004],\n",
       "        [-0.2632238 , -0.09394917, -0.23072219, -0.37530941,  0.49557173,\n",
       "          0.28896451,  0.39734668, -0.30483592],\n",
       "        [-0.29501513,  0.53295255, -0.05231389,  0.01394135, -0.49532902,\n",
       "          0.33208585, -0.05008504, -0.23610356],\n",
       "        [-0.25941324, -0.46366096, -0.33882636, -0.05407721,  0.12721938,\n",
       "         -0.47138846, -0.48212168, -0.48687857],\n",
       "        [-0.38979548,  0.0971483 , -0.42346805, -0.31823888, -0.46775669,\n",
       "          0.22809571,  0.44578147, -0.39290094],\n",
       "        [-0.31972355, -0.54436046, -0.35028955, -0.16964275,  0.00556302,\n",
       "          0.12500006,  0.01583385,  0.32359594],\n",
       "        [-0.1191068 ,  0.23117036, -0.48462963, -0.51221889,  0.25624269,\n",
       "          0.31404585, -0.33405769,  0.39033455],\n",
       "        [-0.54193014, -0.40693206,  0.18532407, -0.3298831 , -0.34499061,\n",
       "         -0.01388377, -0.53918833, -0.49128592],\n",
       "        [-0.06546468,  0.4359898 ,  0.3459782 , -0.16183195, -0.04198134,\n",
       "         -0.0757615 , -0.1901584 ,  0.48495781],\n",
       "        [ 0.45760894,  0.21685189, -0.10362908, -0.10667971, -0.34494239,\n",
       "          0.25403595,  0.48056877,  0.36595327],\n",
       "        [-0.54732794,  0.37638366, -0.47169888, -0.4372322 ,  0.24315333,\n",
       "          0.29724318,  0.25146937,  0.2727164 ],\n",
       "        [-0.39104742, -0.08714843,  0.16254103,  0.02713668, -0.12962416,\n",
       "         -0.33613312, -0.30671823, -0.37965143]], dtype=float32),\n",
       " array([ 0.,  0.,  0.,  0.,  0.,  0.,  0.,  0.], dtype=float32),\n",
       " array([[ 0.27025545],\n",
       "        [ 0.01090062],\n",
       "        [-0.0574615 ],\n",
       "        [ 0.73207629],\n",
       "        [ 0.33480632],\n",
       "        [-0.02642792],\n",
       "        [ 0.79025376],\n",
       "        [-0.75082421]], dtype=float32),\n",
       " array([ 0.], dtype=float32)]"
      ]
     },
     "execution_count": 17,
     "metadata": {},
     "output_type": "execute_result"
    }
   ],
   "source": [
    "# List all weight tensors \n",
    "model.get_weights()"
   ]
  },
  {
   "cell_type": "code",
   "execution_count": 18,
   "metadata": {},
   "outputs": [
    {
     "name": "stdout",
     "output_type": "stream",
     "text": [
      "Epoch 1/20\n",
      "4352/4352 [==============================] - 6s - loss: 0.1054 - acc: 0.9625     \n",
      "Epoch 2/20\n",
      "4352/4352 [==============================] - 4s - loss: 0.0278 - acc: 0.9943     \n",
      "Epoch 3/20\n",
      "4352/4352 [==============================] - 6s - loss: 0.0221 - acc: 0.9952     \n",
      "Epoch 4/20\n",
      "4352/4352 [==============================] - 7s - loss: 0.0183 - acc: 0.9959     \n",
      "Epoch 5/20\n",
      "4352/4352 [==============================] - 6s - loss: 0.0181 - acc: 0.9959     \n",
      "Epoch 6/20\n",
      "4352/4352 [==============================] - 6s - loss: 0.0155 - acc: 0.9963     - ETA: 1s - loss: 0.0155 - acc: 0.995 - ETA: 1\n",
      "Epoch 7/20\n",
      "4352/4352 [==============================] - 7s - loss: 0.0141 - acc: 0.9968     \n",
      "Epoch 8/20\n",
      "4352/4352 [==============================] - 7s - loss: 0.0136 - acc: 0.9966     \n",
      "Epoch 9/20\n",
      "4352/4352 [==============================] - 7s - loss: 0.0128 - acc: 0.9972     - ETA: 2s - loss: 0.0137 - acc: - ETA\n",
      "Epoch 10/20\n",
      "4352/4352 [==============================] - 7s - loss: 0.0114 - acc: 0.9970     - \n",
      "Epoch 11/20\n",
      "4352/4352 [==============================] - 5s - loss: 0.0110 - acc: 0.9977     \n",
      "Epoch 12/20\n",
      "4352/4352 [==============================] - 4s - loss: 0.0114 - acc: 0.9977     \n",
      "Epoch 13/20\n",
      "4352/4352 [==============================] - 4s - loss: 0.0110 - acc: 0.9977     \n",
      "Epoch 14/20\n",
      "4352/4352 [==============================] - 4s - loss: 0.0112 - acc: 0.9977     - ETA: 0s - loss: 0.0071 \n",
      "Epoch 15/20\n",
      "4352/4352 [==============================] - 4s - loss: 0.0118 - acc: 0.9977     - ETA: 4s - loss:  - ETA: 3s - loss: 0.0041 - - ETA: 0s - loss: 0.0108 - a\n",
      "Epoch 16/20\n",
      "4352/4352 [==============================] - 4s - loss: 0.0095 - acc: 0.9984     - ETA: 2s - loss: 0.0 - ETA: 1s - loss:  - ETA: 0s - loss: 0.0084 - a\n",
      "Epoch 17/20\n",
      "4352/4352 [==============================] - 4s - loss: 0.0095 - acc: 0.9984     - ETA: 1s - loss: 0.0097 - acc:  - ETA: 0s - loss: \n",
      "Epoch 18/20\n",
      "4352/4352 [==============================] - 4s - loss: 0.0094 - acc: 0.9984     \n",
      "Epoch 19/20\n",
      "4352/4352 [==============================] - 4s - loss: 0.0109 - acc: 0.9975     \n",
      "Epoch 20/20\n",
      "4352/4352 [==============================] - 4s - loss: 0.0093 - acc: 0.9982     \n"
     ]
    },
    {
     "data": {
      "text/plain": [
       "<keras.callbacks.History at 0x2700b201b70>"
      ]
     },
     "execution_count": 18,
     "metadata": {},
     "output_type": "execute_result"
    }
   ],
   "source": [
    "model.compile(loss='binary_crossentropy',\n",
    "              optimizer='adam',\n",
    "              metrics=['accuracy'])\n",
    "                   \n",
    "model.fit(X_train, y_train,epochs=20, batch_size=1, verbose=1)"
   ]
  },
  {
   "cell_type": "code",
   "execution_count": 39,
   "metadata": {},
   "outputs": [
    {
     "data": {
      "text/plain": [
       "array([[ 0.],\n",
       "       [ 1.],\n",
       "       [ 0.],\n",
       "       [ 0.],\n",
       "       [ 0.]], dtype=float32)"
      ]
     },
     "execution_count": 39,
     "metadata": {},
     "output_type": "execute_result"
    }
   ],
   "source": [
    "y_pred_float = model.predict(X_test)\n",
    "y_pred_round = np.rint(y_pred_float)\n",
    "y_pred_round[:5]"
   ]
  },
  {
   "cell_type": "code",
   "execution_count": 40,
   "metadata": {},
   "outputs": [
    {
     "data": {
      "text/plain": [
       "array([[0],\n",
       "       [1],\n",
       "       [0],\n",
       "       [0],\n",
       "       [0]])"
      ]
     },
     "execution_count": 40,
     "metadata": {},
     "output_type": "execute_result"
    }
   ],
   "source": [
    "y_pred_int = np.asarray(y_pred_round, dtype=int)\n",
    "y_pred_int[:5]"
   ]
  },
  {
   "cell_type": "code",
   "execution_count": 21,
   "metadata": {},
   "outputs": [
    {
     "data": {
      "text/plain": [
       "array([0, 1, 0, 0, 0], dtype=int64)"
      ]
     },
     "execution_count": 21,
     "metadata": {},
     "output_type": "execute_result"
    }
   ],
   "source": [
    "y_test[:5]"
   ]
  },
  {
   "cell_type": "code",
   "execution_count": 25,
   "metadata": {},
   "outputs": [
    {
     "name": "stdout",
     "output_type": "stream",
     "text": [
      "2144/2145 [============================>.] - ETA: 0s[0.027040664810906567, 0.99533799533799538]\n"
     ]
    }
   ],
   "source": [
    "score = model.evaluate(X_test, y_test,verbose=1)\n",
    "print(score)"
   ]
  },
  {
   "cell_type": "markdown",
   "metadata": {},
   "source": [
    "### Performance Metrics"
   ]
  },
  {
   "cell_type": "code",
   "execution_count": 41,
   "metadata": {},
   "outputs": [
    {
     "data": {
      "text/plain": [
       "array([[1586,    2],\n",
       "       [   8,  549]])"
      ]
     },
     "execution_count": 41,
     "metadata": {},
     "output_type": "execute_result"
    }
   ],
   "source": [
    "from sklearn.metrics import confusion_matrix, precision_score, recall_score, f1_score, cohen_kappa_score\n",
    "confusion_matrix(y_test, y_pred_int)"
   ]
  },
  {
   "cell_type": "code",
   "execution_count": 42,
   "metadata": {},
   "outputs": [
    {
     "data": {
      "text/plain": [
       "0.99637023593466423"
      ]
     },
     "execution_count": 42,
     "metadata": {},
     "output_type": "execute_result"
    }
   ],
   "source": [
    "precision_score(y_test, y_pred_int)"
   ]
  },
  {
   "cell_type": "code",
   "execution_count": 43,
   "metadata": {},
   "outputs": [
    {
     "data": {
      "text/plain": [
       "0.98563734290843807"
      ]
     },
     "execution_count": 43,
     "metadata": {},
     "output_type": "execute_result"
    }
   ],
   "source": [
    "recall_score(y_test, y_pred)"
   ]
  },
  {
   "cell_type": "code",
   "execution_count": 44,
   "metadata": {},
   "outputs": [
    {
     "data": {
      "text/plain": [
       "0.99097472924187735"
      ]
     },
     "execution_count": 44,
     "metadata": {},
     "output_type": "execute_result"
    }
   ],
   "source": [
    "f1_score(y_test,y_pred)"
   ]
  },
  {
   "cell_type": "code",
   "execution_count": 45,
   "metadata": {},
   "outputs": [
    {
     "data": {
      "text/plain": [
       "0.98783217592461281"
      ]
     },
     "execution_count": 45,
     "metadata": {},
     "output_type": "execute_result"
    }
   ],
   "source": [
    "cohen_kappa_score(y_test, y_pred)"
   ]
  },
  {
   "cell_type": "markdown",
   "metadata": {},
   "source": [
    "# Predicting Quality instead of Type:\n",
    "\n",
    "### Pre-processing Data:"
   ]
  },
  {
   "cell_type": "code",
   "execution_count": 46,
   "metadata": {
    "collapsed": true
   },
   "outputs": [],
   "source": [
    "# Isolate target labels\n",
    "y = wines.quality\n",
    "\n",
    "# Isolate data\n",
    "X = wines.drop('quality', axis=1) "
   ]
  },
  {
   "cell_type": "code",
   "execution_count": 47,
   "metadata": {
    "collapsed": true
   },
   "outputs": [],
   "source": [
    "# Scale the data with `StandardScaler`\n",
    "X = StandardScaler().fit_transform(X)"
   ]
  },
  {
   "cell_type": "code",
   "execution_count": 48,
   "metadata": {
    "collapsed": true
   },
   "outputs": [],
   "source": [
    "# Import `Sequential` from `keras.models`\n",
    "from keras.models import Sequential\n",
    "\n",
    "# Import `Dense` from `keras.layers`\n",
    "from keras.layers import Dense\n",
    "\n",
    "# Initialize the model\n",
    "model = Sequential()\n",
    "\n",
    "# Add input layer \n",
    "model.add(Dense(64, input_dim=12, activation='relu'))\n",
    "    \n",
    "# Add output layer \n",
    "model.add(Dense(1))"
   ]
  },
  {
   "cell_type": "markdown",
   "metadata": {},
   "source": [
    "### Splitting Data into K-Folds, Compiling The Model and Fitting:"
   ]
  },
  {
   "cell_type": "code",
   "execution_count": 51,
   "metadata": {},
   "outputs": [
    {
     "name": "stdout",
     "output_type": "stream",
     "text": [
      "Epoch 1/10\n",
      "5195/5195 [==============================] - 7s - loss: 14.2926 - mean_absolute_error: 3.3590     \n",
      "Epoch 2/10\n",
      "5195/5195 [==============================] - 0s - loss: 1.6252 - mean_absolute_error: 0.9938     \n",
      "Epoch 3/10\n",
      "5195/5195 [==============================] - 0s - loss: 1.0007 - mean_absolute_error: 0.7738     \n",
      "Epoch 4/10\n",
      "5195/5195 [==============================] - 0s - loss: 0.7487 - mean_absolute_error: 0.6667     \n",
      "Epoch 5/10\n",
      "5195/5195 [==============================] - 0s - loss: 0.6337 - mean_absolute_error: 0.6158     \n",
      "Epoch 6/10\n",
      "5195/5195 [==============================] - 0s - loss: 0.5717 - mean_absolute_error: 0.5860     \n",
      "Epoch 7/10\n",
      "5195/5195 [==============================] - 0s - loss: 0.5392 - mean_absolute_error: 0.5709     \n",
      "Epoch 8/10\n",
      "5195/5195 [==============================] - 0s - loss: 0.5209 - mean_absolute_error: 0.5610     \n",
      "Epoch 9/10\n",
      "5195/5195 [==============================] - 0s - loss: 0.5098 - mean_absolute_error: 0.5564     \n",
      "Epoch 10/10\n",
      "5195/5195 [==============================] - 0s - loss: 0.5004 - mean_absolute_error: 0.5519     \n",
      "Epoch 1/10\n",
      "5197/5197 [==============================] - 0s - loss: 12.4800 - mean_absolute_error: 3.0994     \n",
      "Epoch 2/10\n",
      "5197/5197 [==============================] - 0s - loss: 1.4881 - mean_absolute_error: 0.9523     \n",
      "Epoch 3/10\n",
      "5197/5197 [==============================] - 0s - loss: 0.9228 - mean_absolute_error: 0.7451     \n",
      "Epoch 4/10\n",
      "5197/5197 [==============================] - 0s - loss: 0.7209 - mean_absolute_error: 0.6578     \n",
      "Epoch 5/10\n",
      "5197/5197 [==============================] - 0s - loss: 0.6227 - mean_absolute_error: 0.6112     \n",
      "Epoch 6/10\n",
      "5197/5197 [==============================] - 0s - loss: 0.5700 - mean_absolute_error: 0.5861     \n",
      "Epoch 7/10\n",
      "5197/5197 [==============================] - 0s - loss: 0.5396 - mean_absolute_error: 0.5695     \n",
      "Epoch 8/10\n",
      "5197/5197 [==============================] - 0s - loss: 0.5198 - mean_absolute_error: 0.5597     \n",
      "Epoch 9/10\n",
      "5197/5197 [==============================] - 0s - loss: 0.5091 - mean_absolute_error: 0.5533     \n",
      "Epoch 10/10\n",
      "5197/5197 [==============================] - 0s - loss: 0.4993 - mean_absolute_error: 0.5485     \n",
      "Epoch 1/10\n",
      "5197/5197 [==============================] - 0s - loss: 13.3634 - mean_absolute_error: 3.2175     \n",
      "Epoch 2/10\n",
      "5197/5197 [==============================] - 0s - loss: 1.5875 - mean_absolute_error: 0.9706     \n",
      "Epoch 3/10\n",
      "5197/5197 [==============================] - 0s - loss: 0.9822 - mean_absolute_error: 0.7553     \n",
      "Epoch 4/10\n",
      "5197/5197 [==============================] - 0s - loss: 0.7342 - mean_absolute_error: 0.6580     \n",
      "Epoch 5/10\n",
      "5197/5197 [==============================] - 0s - loss: 0.6145 - mean_absolute_error: 0.6033     \n",
      "Epoch 6/10\n",
      "5197/5197 [==============================] - 0s - loss: 0.5528 - mean_absolute_error: 0.5756     \n",
      "Epoch 7/10\n",
      "5197/5197 [==============================] - 0s - loss: 0.5230 - mean_absolute_error: 0.5603     \n",
      "Epoch 8/10\n",
      "5197/5197 [==============================] - 0s - loss: 0.5082 - mean_absolute_error: 0.5550     \n",
      "Epoch 9/10\n",
      "5197/5197 [==============================] - 0s - loss: 0.4968 - mean_absolute_error: 0.5446     \n",
      "Epoch 10/10\n",
      "5197/5197 [==============================] - 0s - loss: 0.4882 - mean_absolute_error: 0.5421     \n",
      "Epoch 1/10\n",
      "5199/5199 [==============================] - 0s - loss: 12.9538 - mean_absolute_error: 3.1445     \n",
      "Epoch 2/10\n",
      "5199/5199 [==============================] - 0s - loss: 1.5939 - mean_absolute_error: 0.9715     \n",
      "Epoch 3/10\n",
      "5199/5199 [==============================] - 0s - loss: 1.0034 - mean_absolute_error: 0.7738     \n",
      "Epoch 4/10\n",
      "5199/5199 [==============================] - 0s - loss: 0.7596 - mean_absolute_error: 0.6664     \n",
      "Epoch 5/10\n",
      "5199/5199 [==============================] - 0s - loss: 0.6334 - mean_absolute_error: 0.6077     \n",
      "Epoch 6/10\n",
      "5199/5199 [==============================] - 0s - loss: 0.5753 - mean_absolute_error: 0.5805     \n",
      "Epoch 7/10\n",
      "5199/5199 [==============================] - 0s - loss: 0.5403 - mean_absolute_error: 0.5648     \n",
      "Epoch 8/10\n",
      "5199/5199 [==============================] - 0s - loss: 0.5176 - mean_absolute_error: 0.5536     \n",
      "Epoch 9/10\n",
      "5199/5199 [==============================] - 0s - loss: 0.5051 - mean_absolute_error: 0.5503     \n",
      "Epoch 10/10\n",
      "5199/5199 [==============================] - 0s - loss: 0.4949 - mean_absolute_error: 0.5437     \n",
      "Epoch 1/10\n",
      "5200/5200 [==============================] - 0s - loss: 11.7573 - mean_absolute_error: 2.9581     \n",
      "Epoch 2/10\n",
      "5200/5200 [==============================] - 0s - loss: 1.6010 - mean_absolute_error: 0.9802     \n",
      "Epoch 3/10\n",
      "5200/5200 [==============================] - 0s - loss: 1.0169 - mean_absolute_error: 0.7775     \n",
      "Epoch 4/10\n",
      "5200/5200 [==============================] - 0s - loss: 0.7626 - mean_absolute_error: 0.6709     \n",
      "Epoch 5/10\n",
      "5200/5200 [==============================] - 0s - loss: 0.6439 - mean_absolute_error: 0.6162     \n",
      "Epoch 6/10\n",
      "5200/5200 [==============================] - 0s - loss: 0.5870 - mean_absolute_error: 0.5884     \n",
      "Epoch 7/10\n",
      "5200/5200 [==============================] - 0s - loss: 0.5502 - mean_absolute_error: 0.5728     \n",
      "Epoch 8/10\n",
      "5200/5200 [==============================] - 0s - loss: 0.5219 - mean_absolute_error: 0.5577     \n",
      "Epoch 9/10\n",
      "5200/5200 [==============================] - 0s - loss: 0.5103 - mean_absolute_error: 0.5517     \n",
      "Epoch 10/10\n",
      "5200/5200 [==============================] - 0s - loss: 0.4994 - mean_absolute_error: 0.5460     \n"
     ]
    }
   ],
   "source": [
    "import numpy as np\n",
    "from sklearn.model_selection import StratifiedKFold\n",
    "\n",
    "seed = 7\n",
    "np.random.seed(seed) # to generate a predictable random number\n",
    "\n",
    "kfold = StratifiedKFold(n_splits=5, shuffle=True, random_state=seed)\n",
    "for train, test in kfold.split(X, y):\n",
    "    model = Sequential()\n",
    "    model.add(Dense(64, input_dim=12, activation='relu'))\n",
    "    model.add(Dense(1))\n",
    "    model.compile(optimizer='rmsprop', loss='mse', metrics=['mae'])\n",
    "    model.fit(X[train], y[train], epochs=10, verbose=1)"
   ]
  },
  {
   "cell_type": "markdown",
   "metadata": {},
   "source": [
    "### Predicting the outcome:"
   ]
  },
  {
   "cell_type": "code",
   "execution_count": 55,
   "metadata": {},
   "outputs": [
    {
     "data": {
      "text/plain": [
       "array([[5],\n",
       "       [5],\n",
       "       [5],\n",
       "       ..., \n",
       "       [6],\n",
       "       [6],\n",
       "       [5]])"
      ]
     },
     "execution_count": 55,
     "metadata": {},
     "output_type": "execute_result"
    }
   ],
   "source": [
    "y_pred_float = model.predict(X[test])\n",
    "y_pred_round = np.rint(y_pred_float)\n",
    "y_pred_int = np.asarray(y_pred_round, dtype=int)\n",
    "y_pred_int"
   ]
  },
  {
   "cell_type": "markdown",
   "metadata": {},
   "source": [
    "### Evaluating the Model:"
   ]
  },
  {
   "cell_type": "code",
   "execution_count": 62,
   "metadata": {},
   "outputs": [
    {
     "name": "stdout",
     "output_type": "stream",
     "text": [
      "MAE Value:  0.516973164004\n",
      "MSE Value:  0.557339488357\n",
      "R2 Score:  0.313802556719\n"
     ]
    }
   ],
   "source": [
    "from sklearn.metrics import r2_score\n",
    "mse_value, mae_value = model.evaluate(X[test], y[test], verbose=0)\n",
    "\n",
    "print('MAE Value: ', mse_value)\n",
    "print('MSE Value: ', mae_value)\n",
    "print ('R2 Score: ', r2_score(y[test], y_pred))"
   ]
  },
  {
   "cell_type": "markdown",
   "metadata": {},
   "source": [
    "Above performance indicators are not very good hence now we have to tune the model.\n",
    "First I add and intermediate layer."
   ]
  },
  {
   "cell_type": "code",
   "execution_count": 64,
   "metadata": {},
   "outputs": [
    {
     "name": "stdout",
     "output_type": "stream",
     "text": [
      "MAE Value:  0.515896319424\n",
      "MSE Value:  0.557143074279\n",
      "R2 Score:  0.313802556719\n"
     ]
    }
   ],
   "source": [
    "seed = 7\n",
    "np.random.seed(seed) # to generate a predictable random number\n",
    "\n",
    "kfold = StratifiedKFold(n_splits=5, shuffle=True, random_state=seed)\n",
    "for train, test in kfold.split(X, y):\n",
    "    model = Sequential()\n",
    "    model.add(Dense(64, input_dim=12, activation='relu'))\n",
    "    model.add(Dense(64, activation='relu'))\n",
    "    model.add(Dense(1))\n",
    "    model.compile(optimizer='rmsprop', loss='mse', metrics=['mae'])\n",
    "    model.fit(X[train], y[train], epochs=10, verbose=0)\n",
    "    \n",
    "y_pred_float = model.predict(X[test])\n",
    "y_pred_round = np.rint(y_pred_float)\n",
    "y_pred_int = np.asarray(y_pred_round, dtype=int)\n",
    "\n",
    "mse_value, mae_value = model.evaluate(X[test], y[test], verbose=0)\n",
    "\n",
    "print('MAE Value: ', mse_value)\n",
    "print('MSE Value: ', mae_value)\n",
    "print ('R2 Score: ', r2_score(y[test], y_pred))"
   ]
  },
  {
   "cell_type": "markdown",
   "metadata": {},
   "source": [
    "Performance values have not changed, lets try to change the number of units for each layer instead."
   ]
  },
  {
   "cell_type": "code",
   "execution_count": 65,
   "metadata": {},
   "outputs": [
    {
     "name": "stdout",
     "output_type": "stream",
     "text": [
      "MAE Value:  0.518004917257\n",
      "MSE Value:  0.563017440146\n",
      "R2 Score:  0.313802556719\n"
     ]
    }
   ],
   "source": [
    "seed = 7\n",
    "np.random.seed(seed) # to generate a predictable random number\n",
    "\n",
    "kfold = StratifiedKFold(n_splits=5, shuffle=True, random_state=seed)\n",
    "for train, test in kfold.split(X, y):\n",
    "    model = Sequential()\n",
    "    model.add(Dense(128, input_dim=12, activation='relu'))\n",
    "    model.add(Dense(1))\n",
    "    model.compile(optimizer='rmsprop', loss='mse', metrics=['mae'])\n",
    "    model.fit(X[train], y[train], epochs=10, verbose=0)\n",
    "    \n",
    "y_pred_float = model.predict(X[test])\n",
    "y_pred_round = np.rint(y_pred_float)\n",
    "y_pred_int = np.asarray(y_pred_round, dtype=int)\n",
    "\n",
    "mse_value, mae_value = model.evaluate(X[test], y[test], verbose=0)\n",
    "\n",
    "print('MAE Value: ', mse_value)\n",
    "print('MSE Value: ', mae_value)\n",
    "print ('R2 Score: ', r2_score(y[test], y_pred))"
   ]
  },
  {
   "cell_type": "markdown",
   "metadata": {},
   "source": [
    "Now trying to tune the Learning Rate parameter in RMSProp optimizer from Keras"
   ]
  },
  {
   "cell_type": "code",
   "execution_count": 66,
   "metadata": {},
   "outputs": [
    {
     "name": "stdout",
     "output_type": "stream",
     "text": [
      "MAE Value:  1.42596123185\n",
      "MSE Value:  0.949202697463\n",
      "R2 Score:  0.313802556719\n"
     ]
    }
   ],
   "source": [
    "from keras.optimizers import RMSprop\n",
    "\n",
    "rmsprop = RMSprop(lr=0.0001)\n",
    "seed = 7\n",
    "np.random.seed(seed) # to generate a predictable random number\n",
    "\n",
    "kfold = StratifiedKFold(n_splits=5, shuffle=True, random_state=seed)\n",
    "for train, test in kfold.split(X, y):\n",
    "    model = Sequential()\n",
    "    model.add(Dense(128, input_dim=12, activation='relu'))\n",
    "    model.add(Dense(1))\n",
    "    model.compile(optimizer=rmsprop, loss='mse', metrics=['mae'])\n",
    "    model.fit(X[train], y[train], epochs=10, verbose=0)\n",
    "    \n",
    "y_pred_float = model.predict(X[test])\n",
    "y_pred_round = np.rint(y_pred_float)\n",
    "y_pred_int = np.asarray(y_pred_round, dtype=int)\n",
    "\n",
    "mse_value, mae_value = model.evaluate(X[test], y[test], verbose=0)\n",
    "\n",
    "print('MAE Value: ', mse_value)\n",
    "print('MSE Value: ', mae_value)\n",
    "print ('R2 Score: ', r2_score(y[test], y_pred))"
   ]
  },
  {
   "cell_type": "markdown",
   "metadata": {},
   "source": [
    "Now trying to apply SGD optimizer to see if the performance increases."
   ]
  },
  {
   "cell_type": "code",
   "execution_count": 67,
   "metadata": {},
   "outputs": [
    {
     "name": "stdout",
     "output_type": "stream",
     "text": [
      "MAE Value:  0.511899275052\n",
      "MSE Value:  0.559370650359\n",
      "R2 Score:  0.313802556719\n"
     ]
    }
   ],
   "source": [
    "from keras.optimizers import SGD, RMSprop\n",
    "\n",
    "sgd=SGD(lr=0.1)\n",
    "seed = 7\n",
    "np.random.seed(seed) # to generate a predictable random number\n",
    "\n",
    "kfold = StratifiedKFold(n_splits=5, shuffle=True, random_state=seed)\n",
    "for train, test in kfold.split(X, y):\n",
    "    model = Sequential()\n",
    "    model.add(Dense(128, input_dim=12, activation='relu'))\n",
    "    model.add(Dense(1))\n",
    "    model.compile(optimizer=sgd, loss='mse', metrics=['mae'])\n",
    "    model.fit(X[train], y[train], epochs=10, verbose=0)\n",
    "    \n",
    "y_pred_float = model.predict(X[test])\n",
    "y_pred_round = np.rint(y_pred_float)\n",
    "y_pred_int = np.asarray(y_pred_round, dtype=int)\n",
    "\n",
    "mse_value, mae_value = model.evaluate(X[test], y[test], verbose=0)\n",
    "\n",
    "print('MAE Value: ', mse_value)\n",
    "print('MSE Value: ', mae_value)\n",
    "print ('R2 Score: ', r2_score(y[test], y_pred))"
   ]
  },
  {
   "cell_type": "code",
   "execution_count": null,
   "metadata": {
    "collapsed": true
   },
   "outputs": [],
   "source": []
  }
 ],
 "metadata": {
  "kernelspec": {
   "display_name": "Python 3",
   "language": "python",
   "name": "python3"
  },
  "language_info": {
   "codemirror_mode": {
    "name": "ipython",
    "version": 3
   },
   "file_extension": ".py",
   "mimetype": "text/x-python",
   "name": "python",
   "nbconvert_exporter": "python",
   "pygments_lexer": "ipython3",
   "version": "3.5.3"
  }
 },
 "nbformat": 4,
 "nbformat_minor": 1
}
